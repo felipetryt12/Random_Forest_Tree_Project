{
    "cells": [
        {
            "cell_type": "markdown",
            "metadata": {},
            "source": [
                "# Explore here"
            ]
        },
        {
            "cell_type": "code",
            "execution_count": 6,
            "metadata": {},
            "outputs": [
                {
                    "name": "stdout",
                    "output_type": "stream",
                    "text": [
                        "(568, 9) (143, 9)\n"
                    ]
                }
            ],
            "source": [
                "import pandas as pd \n",
                "pd.set_option('display.max_columns', None)\n",
                "\n",
                "data_train = pd.read_csv(rf\"C:\\Users\\wipip\\OneDrive\\Documentos\\GitHub\\Decision_tree_project-main\\data\\processed\\data_train.csv\")\n",
                "data_test = pd.read_csv(rf\"C:\\Users\\wipip\\OneDrive\\Documentos\\GitHub\\Decision_tree_project-main\\data\\processed\\data_test.csv\")\n",
                "print(data_train.shape, data_test.shape)"
            ]
        },
        {
            "cell_type": "markdown",
            "metadata": {},
            "source": [
                "Guardamos nuestros datos en processed, debido a que ya estan limpios"
            ]
        },
        {
            "cell_type": "code",
            "execution_count": 8,
            "metadata": {},
            "outputs": [],
            "source": [
                "data_test.to_csv(rf\"C:\\Users\\wipip\\OneDrive\\Documentos\\GitHub\\Random_Forest_Tree_Project-main\\data\\processed\\data_test.csv\", index=False)\n",
                "data_train.to_csv(rf\"C:\\Users\\wipip\\OneDrive\\Documentos\\GitHub\\Random_Forest_Tree_Project-main\\data\\processed\\data_train.csv\", index=False)"
            ]
        }
    ],
    "metadata": {
        "kernelspec": {
            "display_name": "Python 3.8.13 64-bit ('3.8.13')",
            "language": "python",
            "name": "python3"
        },
        "language_info": {
            "codemirror_mode": {
                "name": "ipython",
                "version": 3
            },
            "file_extension": ".py",
            "mimetype": "text/x-python",
            "name": "python",
            "nbconvert_exporter": "python",
            "pygments_lexer": "ipython3",
            "version": "3.12.4"
        },
        "orig_nbformat": 4,
        "vscode": {
            "interpreter": {
                "hash": "110cc1dee26208153f2972f08a2ad52b6a56238dc66d48e87fb757ef2996db56"
            }
        }
    },
    "nbformat": 4,
    "nbformat_minor": 2
}
